{
  "nbformat": 4,
  "nbformat_minor": 0,
  "metadata": {
    "colab": {
      "provenance": [],
      "authorship_tag": "ABX9TyMROG/PIblBlogvi59p8hzv",
      "include_colab_link": true
    },
    "kernelspec": {
      "name": "python3",
      "display_name": "Python 3"
    },
    "language_info": {
      "name": "python"
    }
  },
  "cells": [
    {
      "cell_type": "markdown",
      "metadata": {
        "id": "view-in-github",
        "colab_type": "text"
      },
      "source": [
        "<a href=\"https://colab.research.google.com/github/108509/OlaMundoC/blob/main/Pensamento_Computacional01.ipynb\" target=\"_parent\"><img src=\"https://colab.research.google.com/assets/colab-badge.svg\" alt=\"Open In Colab\"/></a>"
      ]
    },
    {
      "cell_type": "code",
      "execution_count": 2,
      "metadata": {
        "colab": {
          "base_uri": "https://localhost:8080/"
        },
        "id": "JvxYiTzMD8AJ",
        "outputId": "71b71caa-8ee4-4c4d-a59c-291f77c17e64"
      },
      "outputs": [
        {
          "output_type": "stream",
          "name": "stdout",
          "text": [
            "Olá, mundo!\n"
          ]
        }
      ],
      "source": [
        "# Olá Mundo em Python\n",
        "\n",
        "print(\"Olá, mundo!\")\n"
      ]
    },
    {
      "cell_type": "code",
      "source": [
        "# Exemplo 2: Solicita o nome do usuário e exibe uma mensagem personalizada\n",
        "nome = input(\"Digite seu nome: \")\n",
        "print(f\"Olá, {nome}! Seja bem-vindo!\")"
      ],
      "metadata": {
        "colab": {
          "base_uri": "https://localhost:8080/"
        },
        "id": "xfqnqIpIGTLt",
        "outputId": "5fd1055c-63bd-44a0-99fe-50f7c0aa15ec"
      },
      "execution_count": 3,
      "outputs": [
        {
          "output_type": "stream",
          "name": "stdout",
          "text": [
            "Digite seu nome: Mariana\n",
            "Olá, Mariana! Seja bem-vindo!\n"
          ]
        }
      ]
    },
    {
      "cell_type": "code",
      "source": [
        "# Exemplo 3: Recebe dois números do usuário, soma e exibe o resultado\n",
        "num1 = float(input(\"Digite o primeiro número: \"))\n",
        "num2 = float(input(\"Digite o segundo número: \"))\n",
        "soma = num1 + num2\n",
        "\n",
        "print(f\"A soma de {num1} e {num2} é {soma}\")"
      ],
      "metadata": {
        "colab": {
          "base_uri": "https://localhost:8080/"
        },
        "id": "hsnUW63nIJMe",
        "outputId": "c60933e5-5a11-40b6-ae49-753d4bf91d5c"
      },
      "execution_count": 6,
      "outputs": [
        {
          "output_type": "stream",
          "name": "stdout",
          "text": [
            "Digite o primeiro número: 1\n",
            "Digite o segundo número: 2\n",
            "A soma de 1.0 e 2.0 é 3.0\n"
          ]
        }
      ]
    }
  ]
}